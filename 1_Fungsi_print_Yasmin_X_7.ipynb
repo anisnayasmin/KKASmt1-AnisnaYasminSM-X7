{
  "nbformat": 4,
  "nbformat_minor": 0,
  "metadata": {
    "colab": {
      "provenance": [],
      "authorship_tag": "ABX9TyMESvghuqihdBG9NO893eFm",
      "include_colab_link": true
    },
    "kernelspec": {
      "name": "python3",
      "display_name": "Python 3"
    },
    "language_info": {
      "name": "python"
    }
  },
  "cells": [
    {
      "cell_type": "markdown",
      "metadata": {
        "id": "view-in-github",
        "colab_type": "text"
      },
      "source": [
        "<a href=\"https://colab.research.google.com/github/anisnayasmin/KKASmt1-AnisnaYasminSM-X7/blob/main/1_Fungsi_print_Yasmin_X_7.ipynb\" target=\"_parent\"><img src=\"https://colab.research.google.com/assets/colab-badge.svg\" alt=\"Open In Colab\"/></a>"
      ]
    },
    {
      "cell_type": "markdown",
      "source": [
        "Nama: Anisna Yasmin Sabilla Mahda\n",
        "Kelas: X.7 Absen: 3"
      ],
      "metadata": {
        "id": "3bOO94UTQdxB"
      }
    },
    {
      "cell_type": "markdown",
      "source": [
        "#Menampilkan Teks Bebas Dengan Tanda Kutip"
      ],
      "metadata": {
        "id": "1dTO8g3WX9iy"
      }
    },
    {
      "cell_type": "code",
      "source": [
        "print(\"I Love You\")"
      ],
      "metadata": {
        "colab": {
          "base_uri": "https://localhost:8080/"
        },
        "id": "RVrCa5OGYLWm",
        "outputId": "54f3ffb0-de80-415f-f77e-944131be9ed9"
      },
      "execution_count": 1,
      "outputs": [
        {
          "output_type": "stream",
          "name": "stdout",
          "text": [
            "I Love You\n"
          ]
        }
      ]
    },
    {
      "cell_type": "code",
      "source": [
        "print(\"Anisna Yasmin Sabilla Mahda\")"
      ],
      "metadata": {
        "colab": {
          "base_uri": "https://localhost:8080/"
        },
        "id": "2ovvsvbiYjRC",
        "outputId": "1fdc9ee5-91c5-45ef-8dfc-9dc70678f4c4"
      },
      "execution_count": 2,
      "outputs": [
        {
          "output_type": "stream",
          "name": "stdout",
          "text": [
            "Anisna Yasmin Sabilla Mahda\n"
          ]
        }
      ]
    },
    {
      "cell_type": "markdown",
      "source": [],
      "metadata": {
        "id": "XVZsAcNkQ3wU"
      }
    },
    {
      "cell_type": "markdown",
      "source": [
        "#Menampilkan Variabel Integer"
      ],
      "metadata": {
        "id": "-O9QfQJdYscZ"
      }
    },
    {
      "cell_type": "code",
      "source": [
        "usia = 20\n",
        "print(usia)"
      ],
      "metadata": {
        "colab": {
          "base_uri": "https://localhost:8080/"
        },
        "id": "eyVfAHqVYzga",
        "outputId": "984ba388-a604-4b3b-8a1a-c18fb73bf62e"
      },
      "execution_count": 3,
      "outputs": [
        {
          "output_type": "stream",
          "name": "stdout",
          "text": [
            "20\n"
          ]
        }
      ]
    },
    {
      "cell_type": "code",
      "source": [
        "beratbadan = 60\n",
        "print(beratbadan)"
      ],
      "metadata": {
        "colab": {
          "base_uri": "https://localhost:8080/"
        },
        "id": "CpHDEb5MZE_m",
        "outputId": "42bf56d4-1d0c-4bf4-a350-f88666ecd1dd"
      },
      "execution_count": 4,
      "outputs": [
        {
          "output_type": "stream",
          "name": "stdout",
          "text": [
            "60\n"
          ]
        }
      ]
    },
    {
      "cell_type": "code",
      "source": [
        "tinggibadan = 170\n",
        "print(tinggibadan)"
      ],
      "metadata": {
        "colab": {
          "base_uri": "https://localhost:8080/"
        },
        "id": "GIhpKpf-ZO2o",
        "outputId": "4458f6ea-416c-43fd-b84a-dc5d7b2c15a2"
      },
      "execution_count": 5,
      "outputs": [
        {
          "output_type": "stream",
          "name": "stdout",
          "text": [
            "170\n"
          ]
        }
      ]
    },
    {
      "cell_type": "markdown",
      "source": [
        "#Menampilkan Teks Bebas dan Nilai Variabel"
      ],
      "metadata": {
        "id": "clKkdtQ5ZnOG"
      }
    },
    {
      "cell_type": "code",
      "source": [
        "print(\"Tinggi Badan: \", tinggibadan)"
      ],
      "metadata": {
        "colab": {
          "base_uri": "https://localhost:8080/"
        },
        "id": "FPVKFQHCZtKQ",
        "outputId": "851ca33e-aeb1-4517-b977-8a155ceea3db"
      },
      "execution_count": 7,
      "outputs": [
        {
          "output_type": "stream",
          "name": "stdout",
          "text": [
            "Tinggi Badan:  170\n"
          ]
        }
      ]
    },
    {
      "cell_type": "code",
      "source": [
        "print(\"Usia Anda: \"+ str(usia))"
      ],
      "metadata": {
        "colab": {
          "base_uri": "https://localhost:8080/"
        },
        "id": "5N0kMmjdZ-GP",
        "outputId": "e18261cc-2531-4b2a-cee5-9c27be7dde52"
      },
      "execution_count": 8,
      "outputs": [
        {
          "output_type": "stream",
          "name": "stdout",
          "text": [
            "Usia Anda: 20\n"
          ]
        }
      ]
    },
    {
      "cell_type": "code",
      "source": [
        "Luasman = 1.1\n",
        "print(\"Luas man adalah \"+ str(Luasman) + \" kilometer persegi\")"
      ],
      "metadata": {
        "colab": {
          "base_uri": "https://localhost:8080/"
        },
        "id": "9az32VPRaPKD",
        "outputId": "0338be6f-5af6-4c60-903b-c7815f331ed6"
      },
      "execution_count": 10,
      "outputs": [
        {
          "output_type": "stream",
          "name": "stdout",
          "text": [
            "Luas man adalah 1.1 kilometer persegi\n"
          ]
        }
      ]
    },
    {
      "cell_type": "code",
      "source": [
        "print(f\"Luas man adalah {Luasman} kilometer persegi\")"
      ],
      "metadata": {
        "colab": {
          "base_uri": "https://localhost:8080/"
        },
        "id": "waZeESRYa1Pw",
        "outputId": "7c583622-8fba-49ce-dcb4-bcc8a082d1e3"
      },
      "execution_count": 11,
      "outputs": [
        {
          "output_type": "stream",
          "name": "stdout",
          "text": [
            "Luas man adalah 1.1 kilometer persegi\n"
          ]
        }
      ]
    },
    {
      "cell_type": "code",
      "execution_count": null,
      "metadata": {
        "colab": {
          "base_uri": "https://localhost:8080/"
        },
        "id": "OvD_vwRMNbAv",
        "outputId": "26ba2567-7f72-440f-914e-7ce69ff8ab74"
      },
      "outputs": [
        {
          "output_type": "stream",
          "name": "stdout",
          "text": [
            "Harga telur adalah  26000 per kilogram\n",
            "Nama pembeli telur adalah Yasmin\n"
          ]
        }
      ],
      "source": [
        "harga_telur = 26000\n",
        "nama_pembeli = \"Yasmin\"\n",
        "\n",
        "print(\"Harga telur adalah \" , harga_telur , \"per kilogram\")\n",
        "print(\"Nama pembeli telur adalah\",nama_pembeli)"
      ]
    },
    {
      "cell_type": "code",
      "source": [
        "print(\"Harga telur adalah \" + str(harga_telur) + \" per kilogram\")\n",
        "print(\"Nama pembeli telur adalah \" + nama_pembeli )"
      ],
      "metadata": {
        "colab": {
          "base_uri": "https://localhost:8080/"
        },
        "id": "xwMhdUXsPwiu",
        "outputId": "290f344f-0a5c-4a9a-e69b-095386374930"
      },
      "execution_count": null,
      "outputs": [
        {
          "output_type": "stream",
          "name": "stdout",
          "text": [
            "Harga telur adalah 26000 per kilogram\n",
            "Nama pembeli telur adalah Yasmin\n"
          ]
        }
      ]
    },
    {
      "cell_type": "code",
      "source": [
        "print(f\"Harga telur adalah {harga_telur} per kilogram\")\n",
        "print(f\"Nama pembeli telur adalah {nama_pembeli}\")"
      ],
      "metadata": {
        "colab": {
          "base_uri": "https://localhost:8080/"
        },
        "id": "uyRlB7N-Rk93",
        "outputId": "de8f5557-beb4-4001-bda0-5af2a3682515"
      },
      "execution_count": null,
      "outputs": [
        {
          "output_type": "stream",
          "name": "stdout",
          "text": [
            "Harga telur adalah 26000 per kilogram\n",
            "Nama pembeli telur adalah Yasmin\n"
          ]
        }
      ]
    },
    {
      "cell_type": "markdown",
      "source": [
        "#Escape Character"
      ],
      "metadata": {
        "id": "p93inGjJVBqD"
      }
    },
    {
      "cell_type": "code",
      "source": [
        "print(\"Nama: Anisna Yasmin Sabilla Mahda\")\n",
        "print(\"Kelas: X.7\")\n",
        "print(\"Nomor absen: 3\")"
      ],
      "metadata": {
        "colab": {
          "base_uri": "https://localhost:8080/"
        },
        "id": "wyP_8u2QVoLd",
        "outputId": "28e746a6-717c-407f-96c3-258d8fec237c"
      },
      "execution_count": null,
      "outputs": [
        {
          "output_type": "stream",
          "name": "stdout",
          "text": [
            "Nama: Anisna Yasmin Sabilla Mahda\n",
            "Kelas: X.7\n",
            "Nomor absen: 3\n"
          ]
        }
      ]
    },
    {
      "cell_type": "code",
      "source": [
        "print(\"Nama\\t\\t: Anisna Yasmin Sabilla Mahda\\nKelas\\t\\t: X.7\\nNomor absen\\t: 3\")"
      ],
      "metadata": {
        "colab": {
          "base_uri": "https://localhost:8080/"
        },
        "id": "QhwUC07gWIF1",
        "outputId": "ac81b73e-5328-45c3-e843-19ae92a957ac"
      },
      "execution_count": null,
      "outputs": [
        {
          "output_type": "stream",
          "name": "stdout",
          "text": [
            "Nama\t\t: Anisna Yasmin Sabilla Mahda\n",
            "Kelas\t\t: X.7\n",
            "Nomor absen\t: 3\n"
          ]
        }
      ]
    },
    {
      "cell_type": "code",
      "source": [
        "print(\"\"\"Nama: Anisna Yasmin Sabilla Mahda\n",
        "Kelas: X.7\n",
        "Nomor absen: 3\"\"\")"
      ],
      "metadata": {
        "colab": {
          "base_uri": "https://localhost:8080/"
        },
        "id": "wivgMxXxWhoN",
        "outputId": "2aabdcb2-1572-4752-c0e2-55191a383734"
      },
      "execution_count": null,
      "outputs": [
        {
          "output_type": "stream",
          "name": "stdout",
          "text": [
            "Nama: Anisna Yasmin Sabilla Mahda\n",
            "Kelas: X.7\n",
            "Nomor absen: 3\n"
          ]
        }
      ]
    },
    {
      "cell_type": "code",
      "source": [
        "print(\"Nama: Habib Jafar\")"
      ],
      "metadata": {
        "colab": {
          "base_uri": "https://localhost:8080/"
        },
        "id": "QQCGwRsgQ4rm",
        "outputId": "1416ba2f-e24b-472e-fb07-d297513b4081"
      },
      "execution_count": null,
      "outputs": [
        {
          "output_type": "stream",
          "name": "stdout",
          "text": [
            "Nama: Habib Jafar\n"
          ]
        }
      ]
    },
    {
      "cell_type": "code",
      "source": [
        "print('Nama: Habib Jafar')"
      ],
      "metadata": {
        "colab": {
          "base_uri": "https://localhost:8080/"
        },
        "id": "Paj6qr9sRPXN",
        "outputId": "dbaa623e-d39b-4d73-a2b1-74d826c64b21"
      },
      "execution_count": null,
      "outputs": [
        {
          "output_type": "stream",
          "name": "stdout",
          "text": [
            "Nama: Habib Jafar\n"
          ]
        }
      ]
    },
    {
      "cell_type": "code",
      "source": [
        "print('Nama: Habib Ja\\'far')"
      ],
      "metadata": {
        "colab": {
          "base_uri": "https://localhost:8080/"
        },
        "id": "bbdh9IVRRa4J",
        "outputId": "e6b4430b-5b95-4a38-d14e-0cd89dd0e586"
      },
      "execution_count": null,
      "outputs": [
        {
          "output_type": "stream",
          "name": "stdout",
          "text": [
            "Nama: Habib Ja'far\n"
          ]
        }
      ]
    },
    {
      "cell_type": "code",
      "source": [
        "print(\"Nama: Habib Ja'far\")"
      ],
      "metadata": {
        "colab": {
          "base_uri": "https://localhost:8080/"
        },
        "id": "v3nNK1e8Rlg8",
        "outputId": "c6d7e6c9-216e-4cbe-e2cc-e06e147efd2f"
      },
      "execution_count": null,
      "outputs": [
        {
          "output_type": "stream",
          "name": "stdout",
          "text": [
            "Nama: Habib Ja'far\n"
          ]
        }
      ]
    },
    {
      "cell_type": "code",
      "source": [
        "print(\"Bu Shinta berkata, \\\"Tenang fokus sejenak!\\\".\")"
      ],
      "metadata": {
        "colab": {
          "base_uri": "https://localhost:8080/"
        },
        "id": "lZfpF1utRtgM",
        "outputId": "d2c9fd2c-10a6-4281-991d-221f394eedfa"
      },
      "execution_count": null,
      "outputs": [
        {
          "output_type": "stream",
          "name": "stdout",
          "text": [
            "Bu Shinta berkata, \"Tenang fokus sejenak!\".\n"
          ]
        }
      ]
    },
    {
      "cell_type": "code",
      "source": [
        "print('Bu shinta berkata, \"Tenang fokus sejenak!\".')"
      ],
      "metadata": {
        "colab": {
          "base_uri": "https://localhost:8080/"
        },
        "id": "roa4APWLSDu2",
        "outputId": "a0fe4c46-528b-4e93-d17c-b407124b3e8a"
      },
      "execution_count": null,
      "outputs": [
        {
          "output_type": "stream",
          "name": "stdout",
          "text": [
            "Bu shinta berkata, \"Tenang fokus sejenak!\".\n"
          ]
        }
      ]
    },
    {
      "cell_type": "code",
      "source": [
        "print(\"Lokasi penyimpanan tugas KKA ada di Local disk D:\\\\KKA\\\\Tugas\")"
      ],
      "metadata": {
        "colab": {
          "base_uri": "https://localhost:8080/"
        },
        "id": "ZYSmqUuzSSZL",
        "outputId": "10766785-1ef4-4eda-faab-e7226a863093"
      },
      "execution_count": null,
      "outputs": [
        {
          "output_type": "stream",
          "name": "stdout",
          "text": [
            "Lokasi penyimpanan tugas KKA ada di Local disk D:\\KKA\\Tugas\n"
          ]
        }
      ]
    },
    {
      "cell_type": "code",
      "source": [],
      "metadata": {
        "id": "RGMlCC7kWFZS"
      },
      "execution_count": null,
      "outputs": []
    },
    {
      "cell_type": "markdown",
      "source": [
        "#Parameter Fungsi Print"
      ],
      "metadata": {
        "id": "hmn-QN3tWKz2"
      }
    },
    {
      "cell_type": "code",
      "source": [
        "Tanggal = 8\n",
        "Bulan = \"Desember\"\n",
        "Tahun = 2010\n",
        "\n",
        "#8-Desember-2010\n",
        "print(Tanggal)\n",
        "print(Bulan)\n",
        "print(Tahun)"
      ],
      "metadata": {
        "colab": {
          "base_uri": "https://localhost:8080/"
        },
        "id": "QlTeHhlwWOuH",
        "outputId": "b716d25c-7aec-40a5-ce4e-cbbdec6916e1"
      },
      "execution_count": null,
      "outputs": [
        {
          "output_type": "stream",
          "name": "stdout",
          "text": [
            "8\n",
            "Desember\n",
            "2010\n"
          ]
        }
      ]
    },
    {
      "cell_type": "code",
      "source": [
        "#8-Desember-2010\n",
        "print(Tanggal, Bulan, Tahun, sep=\"-\")"
      ],
      "metadata": {
        "colab": {
          "base_uri": "https://localhost:8080/"
        },
        "id": "kN62gYB3WpJb",
        "outputId": "be93f237-4eb4-44ff-b90b-5eebf0d40493"
      },
      "execution_count": null,
      "outputs": [
        {
          "output_type": "stream",
          "name": "stdout",
          "text": [
            "8-Desember-2010\n"
          ]
        }
      ]
    },
    {
      "cell_type": "code",
      "source": [
        "#8-Desember-2010\n",
        "print(Tanggal, end=\"-\")\n",
        "print(Bulan, end=\"-\")\n",
        "print(Tahun)"
      ],
      "metadata": {
        "colab": {
          "base_uri": "https://localhost:8080/"
        },
        "id": "onhN74f3W0_B",
        "outputId": "7cbb3243-9cea-4dc1-8577-0c80c28915fb"
      },
      "execution_count": null,
      "outputs": [
        {
          "output_type": "stream",
          "name": "stdout",
          "text": [
            "8-Desember-2010\n"
          ]
        }
      ]
    }
  ]
}